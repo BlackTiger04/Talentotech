{
  "nbformat": 4,
  "nbformat_minor": 0,
  "metadata": {
    "colab": {
      "provenance": []
    },
    "kernelspec": {
      "name": "python3",
      "display_name": "Python 3"
    },
    "language_info": {
      "name": "python"
    }
  },
  "cells": [
    {
      "cell_type": "markdown",
      "source": [
        "## **Firmas Digitales**\n",
        "\n",
        "Tres casos:\n",
        "1) Documento modificado.\n",
        "2) Firma no corresponde\n",
        "3) Deje todo correcto: doc OK y firma OK\n",
        "\n",
        "\n",
        "**Código Base (Común para todos los casos)**"
      ],
      "metadata": {
        "id": "I9lzZRd6urV8"
      }
    },
    {
      "cell_type": "code",
      "source": [
        "import os\n",
        "import hashlib\n",
        "from cryptography.hazmat.primitives import hashes\n",
        "from cryptography.hazmat.primitives.asymmetric import rsa, padding\n",
        "from cryptography.hazmat.primitives import serialization\n",
        "from cryptography.fernet import Fernet\n",
        "import base64\n",
        "import json\n",
        "from datetime import datetime\n",
        "\n",
        "# Función para generar claves asimétricas\n",
        "def generar_claves_asimetricas():\n",
        "    \"\"\"Genera y guarda un par de claves asimétricas en archivos.\"\"\"\n",
        "    clave_privada = rsa.generate_private_key(\n",
        "        public_exponent=65537,\n",
        "        key_size=2048\n",
        "    )\n",
        "    clave_publica = clave_privada.public_key()\n",
        "\n",
        "    # Guardar clave privada\n",
        "    with open(\"clave_privada.pem\", \"wb\") as clave_privada_archivo:\n",
        "        clave_privada_archivo.write(\n",
        "            clave_privada.private_bytes(\n",
        "                encoding=serialization.Encoding.PEM,\n",
        "                format=serialization.PrivateFormat.TraditionalOpenSSL,\n",
        "                encryption_algorithm=serialization.NoEncryption()\n",
        "            )\n",
        "        )\n",
        "\n",
        "    # Guardar clave pública\n",
        "    with open(\"clave_publica.pem\", \"wb\") as clave_publica_archivo:\n",
        "        clave_publica_archivo.write(\n",
        "            clave_publica.public_bytes(\n",
        "                encoding=serialization.Encoding.PEM,\n",
        "                format=serialization.PublicFormat.SubjectPublicKeyInfo\n",
        "            )\n",
        "        )\n",
        "\n",
        "    print(\"Claves asimétricas generadas y guardadas en 'clave_privada.pem' y 'clave_publica.pem'.\")\n",
        "\n",
        "# Cargar clave privada\n",
        "def cargar_clave_privada():\n",
        "    \"\"\"Carga la clave privada desde un archivo.\"\"\"\n",
        "    with open(\"clave_privada.pem\", \"rb\") as clave_privada_archivo:\n",
        "        return serialization.load_pem_private_key(\n",
        "            clave_privada_archivo.read(),\n",
        "            password=None\n",
        "        )\n",
        "\n",
        "# Cargar clave pública\n",
        "def cargar_clave_publica():\n",
        "    \"\"\"Carga la clave pública desde un archivo.\"\"\"\n",
        "    with open(\"clave_publica.pem\", \"rb\") as clave_publica_archivo:\n",
        "        return serialization.load_pem_public_key(\n",
        "            clave_publica_archivo.read()\n",
        "        )\n",
        "\n",
        "# Función para crear documento\n",
        "def crear_documento(autor, titulo, contenido, nombre_archivo=\"documento.json\"):\n",
        "    \"\"\"\n",
        "    Crea un documento en formato JSON para ser firmado.\n",
        "    \"\"\"\n",
        "    documento = {\n",
        "        \"autor\": autor,\n",
        "        \"titulo\": titulo,\n",
        "        \"contenido\": contenido,\n",
        "        \"fecha_creacion\": datetime.now().isoformat()\n",
        "    }\n",
        "\n",
        "    with open(nombre_archivo, \"w\") as f:\n",
        "        json.dump(documento, f, indent=4)\n",
        "\n",
        "    print(f\"Documento creado y guardado en: {nombre_archivo}\")\n",
        "    return documento\n",
        "\n",
        "# Función para firmar documento\n",
        "def firmar_documento(ruta_documento, ruta_firma=\"firma_digital.bin\"):\n",
        "    \"\"\"\n",
        "    Firma digitalmente un documento utilizando una clave privada RSA.\n",
        "    \"\"\"\n",
        "    # Cargamos la clave privada\n",
        "    private_key = cargar_clave_privada()\n",
        "\n",
        "    # Convertimos el documento a una cadena JSON y la codificamos en bytes\n",
        "    documento = open(ruta_documento)\n",
        "    mensaje = json.load(documento)\n",
        "    mensaje = json.dumps(mensaje).encode()\n",
        "    documento.close()\n",
        "\n",
        "    # Firmamos el mensaje\n",
        "    firma = private_key.sign(\n",
        "        mensaje,\n",
        "        padding.PSS(\n",
        "            mgf=padding.MGF1(hashes.SHA256()),\n",
        "            salt_length=padding.PSS.MAX_LENGTH\n",
        "        ),\n",
        "        hashes.SHA256()\n",
        "    )\n",
        "\n",
        "    # Guardamos la firma en un archivo\n",
        "    with open(ruta_firma, \"wb\") as f:\n",
        "        f.write(firma)\n",
        "\n",
        "    print(f\"Documento firmado. Firma guardada en: {ruta_firma}\")\n",
        "    return firma\n",
        "\n",
        "# Función para verificar firma\n",
        "def verificar_firma(ruta_documento, ruta_firma):\n",
        "    \"\"\"\n",
        "    Verifica la firma digital de un documento utilizando una clave pública RSA.\n",
        "    \"\"\"\n",
        "    # Cargamos la clave pública\n",
        "    public_key = cargar_clave_publica()\n",
        "\n",
        "    # Cargamos la firma\n",
        "    with open(ruta_firma, \"rb\") as f:\n",
        "        firma = f.read()\n",
        "\n",
        "    # Convertimos el documento a una cadena JSON y la codificamos en bytes\n",
        "    documento = open(ruta_documento)\n",
        "    mensaje = json.load(documento)\n",
        "    mensaje = json.dumps(mensaje).encode()\n",
        "    documento.close()\n",
        "\n",
        "    try:\n",
        "        # Verificamos la firma\n",
        "        public_key.verify(\n",
        "            firma,\n",
        "            mensaje,\n",
        "            padding.PSS(\n",
        "                mgf=padding.MGF1(hashes.SHA256()),\n",
        "                salt_length=padding.PSS.MAX_LENGTH\n",
        "            ),\n",
        "            hashes.SHA256()\n",
        "        )\n",
        "        print(\"¡La firma es válida! El documento es auténtico y no ha sido modificado.\")\n",
        "        return True\n",
        "    except Exception as e:\n",
        "        print(\"¡La firma NO es válida! El documento puede haber sido alterado o la firma no corresponde.\")\n",
        "        print(f\"Error: {e}\")\n",
        "        return False"
      ],
      "metadata": {
        "id": "37i7Uz6MrWUy"
      },
      "execution_count": null,
      "outputs": []
    },
    {
      "cell_type": "markdown",
      "source": [
        "# **Caso 1**"
      ],
      "metadata": {
        "id": "4ATgIISevPIK"
      }
    },
    {
      "cell_type": "code",
      "source": [
        "# Generamos las claves\n",
        "generar_claves_asimetricas()\n",
        "\n",
        "# Creamos y firmamos el documento original\n",
        "print(\"\\n--- Creando documento original ---\")\n",
        "documento_original = crear_documento(\n",
        "    \"Juan Pérez\",\n",
        "    \"Declaración de Seguridad\",\n",
        "    \"Este documento contiene información confidencial sobre vulnerabilidades de seguridad.\",\n",
        "    \"documento_original.json\"\n",
        ")\n",
        "\n",
        "# Firmamos el documento original\n",
        "print(\"\\n--- Firmando documento original ---\")\n",
        "firmar_documento(\"documento_original.json\", \"firma_original.bin\")\n",
        "\n",
        "# Modificamos el documento (simulando un cambio)\n",
        "print(\"\\n--- Modificando el documento ---\")\n",
        "with open(\"documento_original.json\", \"r\") as f:\n",
        "    doc = json.load(f)\n",
        "doc[\"contenido\"] = \"Este documento HA SIDO MODIFICADO y ahora contiene información falsa.\"\n",
        "with open(\"documento_modificado.json\", \"w\") as f:\n",
        "    json.dump(doc, f, indent=4)\n",
        "\n",
        "# Intentamos verificar la firma original con el documento modificado\n",
        "print(\"\\n--- Verificando firma con documento modificado ---\")\n",
        "verificacion = verificar_firma(\"documento_modificado.json\", \"firma_original.bin\")\n",
        "\n",
        "print(\"\\nResultado de la verificación:\", \"VÁLIDA\" if verificacion else \"INVÁLIDA (como se esperaba)\")"
      ],
      "metadata": {
        "colab": {
          "base_uri": "https://localhost:8080/"
        },
        "id": "pakFLjFtvOsg",
        "outputId": "734850bf-1c6e-451d-e590-cc71b07fb75c"
      },
      "execution_count": null,
      "outputs": [
        {
          "output_type": "stream",
          "name": "stdout",
          "text": [
            "Claves asimétricas generadas y guardadas en 'clave_privada.pem' y 'clave_publica.pem'.\n",
            "\n",
            "--- Creando documento original ---\n",
            "Documento creado y guardado en: documento_original.json\n",
            "\n",
            "--- Firmando documento original ---\n",
            "Documento firmado. Firma guardada en: firma_original.bin\n",
            "\n",
            "--- Modificando el documento ---\n",
            "\n",
            "--- Verificando firma con documento modificado ---\n",
            "¡La firma NO es válida! El documento puede haber sido alterado o la firma no corresponde.\n",
            "Error: \n",
            "\n",
            "Resultado de la verificación: INVÁLIDA (como se esperaba)\n"
          ]
        }
      ]
    },
    {
      "cell_type": "markdown",
      "source": [
        "# **Caso 2**"
      ],
      "metadata": {
        "id": "4cb3yVMLvjis"
      }
    },
    {
      "cell_type": "code",
      "source": [
        "# Generamos las claves\n",
        "generar_claves_asimetricas()\n",
        "\n",
        "# Creamos dos documentos diferentes\n",
        "print(\"\\n--- Creando documentos ---\")\n",
        "documento1 = crear_documento(\n",
        "    \"Ana García\",\n",
        "    \"Informe Técnico 1\",\n",
        "    \"Contenido del primer informe técnico.\",\n",
        "    \"documento1.json\"\n",
        ")\n",
        "\n",
        "documento2 = crear_documento(\n",
        "    \"Carlos López\",\n",
        "    \"Informe Técnico 2\",\n",
        "    \"Contenido del segundo informe técnico.\",\n",
        "    \"documento2.json\"\n",
        ")\n",
        "\n",
        "# Firmamos solo el primer documento\n",
        "print(\"\\n--- Firmando solo el primer documento ---\")\n",
        "firma1 = firmar_documento(\"documento1.json\", \"firma1.bin\")\n",
        "\n",
        "# Intentamos verificar el segundo documento con la firma del primero\n",
        "print(\"\\n--- Intentando verificar documento2 con firma1 ---\")\n",
        "verificacion = verificar_firma(\"documento2.json\", \"firma1.bin\")\n",
        "\n",
        "print(\"\\nResultado de la verificación:\", \"VÁLIDA\" if verificacion else \"INVÁLIDA (como se esperaba)\")"
      ],
      "metadata": {
        "colab": {
          "base_uri": "https://localhost:8080/"
        },
        "id": "buHYtIAAvmW1",
        "outputId": "d90bf102-f9a4-470f-f078-b9195df85296"
      },
      "execution_count": null,
      "outputs": [
        {
          "output_type": "stream",
          "name": "stdout",
          "text": [
            "Claves asimétricas generadas y guardadas en 'clave_privada.pem' y 'clave_publica.pem'.\n",
            "\n",
            "--- Creando documentos ---\n",
            "Documento creado y guardado en: documento1.json\n",
            "Documento creado y guardado en: documento2.json\n",
            "\n",
            "--- Firmando solo el primer documento ---\n",
            "Documento firmado. Firma guardada en: firma1.bin\n",
            "\n",
            "--- Intentando verificar documento2 con firma1 ---\n",
            "¡La firma NO es válida! El documento puede haber sido alterado o la firma no corresponde.\n",
            "Error: \n",
            "\n",
            "Resultado de la verificación: INVÁLIDA (como se esperaba)\n"
          ]
        }
      ]
    },
    {
      "cell_type": "markdown",
      "source": [
        "# **Caso 3**"
      ],
      "metadata": {
        "id": "t3EGS0eivzbU"
      }
    },
    {
      "cell_type": "code",
      "source": [
        "# Generamos las claves\n",
        "generar_claves_asimetricas()\n",
        "\n",
        "# Creamos un documento\n",
        "print(\"\\n--- Creando documento ---\")\n",
        "documento = crear_documento(\n",
        "    \"María Rodríguez\",\n",
        "    \"Reporte de Auditoría\",\n",
        "    \"Resultados de la auditoría de seguridad realizada el mes pasado.\",\n",
        "    \"documento_correcto.json\"\n",
        ")\n",
        "\n",
        "# Firmamos el documento\n",
        "print(\"\\n--- Firmando documento ---\")\n",
        "firma = firmar_documento(\"documento_correcto.json\", \"firma_correcta.bin\")\n",
        "\n",
        "# Verificamos la firma con el documento original\n",
        "print(\"\\n--- Verificando firma ---\")\n",
        "verificacion = verificar_firma(\"documento_correcto.json\", \"firma_correcta.bin\")\n",
        "\n",
        "print(\"\\nResultado de la verificación:\", \"VÁLIDA\" if verificacion else \"INVÁLIDA\")"
      ],
      "metadata": {
        "colab": {
          "base_uri": "https://localhost:8080/"
        },
        "id": "cMepieylv2Fb",
        "outputId": "1e036d86-f704-4218-a1c9-b89147b43e42"
      },
      "execution_count": null,
      "outputs": [
        {
          "output_type": "stream",
          "name": "stdout",
          "text": [
            "Claves asimétricas generadas y guardadas en 'clave_privada.pem' y 'clave_publica.pem'.\n",
            "\n",
            "--- Creando documento ---\n",
            "Documento creado y guardado en: documento_correcto.json\n",
            "\n",
            "--- Firmando documento ---\n",
            "Documento firmado. Firma guardada en: firma_correcta.bin\n",
            "\n",
            "--- Verificando firma ---\n",
            "¡La firma es válida! El documento es auténtico y no ha sido modificado.\n",
            "\n",
            "Resultado de la verificación: VÁLIDA\n"
          ]
        }
      ]
    },
    {
      "cell_type": "markdown",
      "source": [
        "En el error hay que evaluar esas 3 opciones porque la otra es cuando todo funciona, para la otra clase.\n",
        "\n",
        "y hacer los 5 ejercicios individualmente haciendo la simulacines como si tú tuvieras varios roles.\n",
        "\n",
        "Programa de **FIRMAS DIGITALES** todo en uno."
      ],
      "metadata": {
        "id": "LDFs7BZww4mb"
      }
    },
    {
      "cell_type": "code",
      "source": [
        "import os\n",
        "import hashlib\n",
        "from cryptography.hazmat.primitives import hashes\n",
        "from cryptography.hazmat.primitives.asymmetric import rsa, padding\n",
        "from cryptography.hazmat.primitives import serialization\n",
        "import json\n",
        "from datetime import datetime\n",
        "from IPython.display import display, Markdown\n",
        "\n",
        "# --- Configuración inicial para Google Colab ---\n",
        "# Crear archivos de ejemplo automáticamente si no existen\n",
        "def setup_colab_environment():\n",
        "    \"\"\"Configura el entorno con documentos de ejemplo para Google Colab\"\"\"\n",
        "    if not os.path.exists(\"clave_privada.pem\"):\n",
        "        generar_claves_asimetricas()\n",
        "\n",
        "    # Documento original\n",
        "    if not os.path.exists(\"documento_original.json\"):\n",
        "        crear_documento(\"Juan Pérez\", \"Contrato importante\",\n",
        "                       \"Este es el contenido original del contrato firmado.\",\n",
        "                       \"documento_original.json\")\n",
        "\n",
        "    # Documento modificado\n",
        "    if not os.path.exists(\"documento_modificado.json\"):\n",
        "        crear_documento(\"Juan Pérez\", \"Contrato importante\",\n",
        "                       \"Este es el contenido MODIFICADO del contrato.\",\n",
        "                       \"documento_modificado.json\")\n",
        "\n",
        "    # Firmar el documento original si no existe firma\n",
        "    if not os.path.exists(\"firma_valida.bin\"):\n",
        "        firmar_documento(\"documento_original.json\", \"firma_valida.bin\")\n",
        "\n",
        "    # Crear firma inválida (firmando el documento modificado)\n",
        "    if not os.path.exists(\"firma_invalida.bin\"):\n",
        "        firmar_documento(\"documento_modificado.json\", \"firma_invalida.bin\")\n",
        "\n",
        "# --- Funciones principales (las que ya tenías, mejor comentadas) ---\n",
        "\n",
        "def generar_claves_asimetricas():\n",
        "    \"\"\"Genera un par de claves RSA (privada y pública) y las guarda en archivos PEM\"\"\"\n",
        "    clave_privada = rsa.generate_private_key(\n",
        "        public_exponent=65537,\n",
        "        key_size=2048\n",
        "    )\n",
        "    clave_publica = clave_privada.public_key()\n",
        "\n",
        "    # Guardar clave privada\n",
        "    with open(\"clave_privada.pem\", \"wb\") as f:\n",
        "        f.write(clave_privada.private_bytes(\n",
        "            encoding=serialization.Encoding.PEM,\n",
        "            format=serialization.PrivateFormat.TraditionalOpenSSL,\n",
        "            encryption_algorithm=serialization.NoEncryption()\n",
        "        ))\n",
        "\n",
        "    # Guardar clave pública\n",
        "    with open(\"clave_publica.pem\", \"wb\") as f:\n",
        "        f.write(clave_publica.public_bytes(\n",
        "            encoding=serialization.Encoding.PEM,\n",
        "            format=serialization.PublicFormat.SubjectPublicKeyInfo\n",
        "        ))\n",
        "\n",
        "    display(Markdown(\"**Claves generadas:** Se crearon 'clave_privada.pem' y 'clave_publica.pem'\"))\n",
        "\n",
        "def cargar_clave_privada():\n",
        "    \"\"\"Carga la clave privada desde archivo PEM\"\"\"\n",
        "    with open(\"clave_privada.pem\", \"rb\") as f:\n",
        "        return serialization.load_pem_private_key(f.read(), password=None)\n",
        "\n",
        "def cargar_clave_publica():\n",
        "    \"\"\"Carga la clave pública desde archivo PEM\"\"\"\n",
        "    with open(\"clave_publica.pem\", \"rb\") as f:\n",
        "        return serialization.load_pem_public_key(f.read())\n",
        "\n",
        "def crear_documento(autor, titulo, contenido, nombre_archivo):\n",
        "    \"\"\"Crea un documento JSON con metadatos y contenido\"\"\"\n",
        "    documento = {\n",
        "        \"autor\": autor,\n",
        "        \"titulo\": titulo,\n",
        "        \"contenido\": contenido,\n",
        "        \"fecha_creacion\": datetime.now().isoformat()\n",
        "    }\n",
        "    with open(nombre_archivo, \"w\") as f:\n",
        "        json.dump(documento, f, indent=4)\n",
        "    display(Markdown(f\"**Documento creado:** '{nombre_archivo}'\"))\n",
        "    return documento\n",
        "\n",
        "def firmar_documento(ruta_documento, ruta_firma):\n",
        "    \"\"\"Firma digitalmente un documento usando la clave privada\"\"\"\n",
        "    private_key = cargar_clave_privada()\n",
        "\n",
        "    with open(ruta_documento) as f:\n",
        "        mensaje = json.dumps(json.load(f)).encode()\n",
        "\n",
        "    firma = private_key.sign(\n",
        "        mensaje,\n",
        "        padding.PSS(\n",
        "            mgf=padding.MGF1(hashes.SHA256()),\n",
        "            salt_length=padding.PSS.MAX_LENGTH\n",
        "        ),\n",
        "        hashes.SHA256()\n",
        "    )\n",
        "\n",
        "    with open(ruta_firma, \"wb\") as f:\n",
        "        f.write(firma)\n",
        "\n",
        "    display(Markdown(f\"**Firma creada:** '{ruta_firma}' para documento '{ruta_documento}'\"))\n",
        "\n",
        "# --- Nuevas funciones para verificación ---\n",
        "\n",
        "def verificar_integridad(documento1, documento2):\n",
        "    \"\"\"Compara dos documentos usando hash SHA-256 para detectar modificaciones\"\"\"\n",
        "    with open(documento1, \"rb\") as f1, open(documento2, \"rb\") as f2:\n",
        "        hash1 = hashlib.sha256(f1.read()).hexdigest()\n",
        "        hash2 = hashlib.sha256(f2.read()).hexdigest()\n",
        "\n",
        "    if hash1 == hash2:\n",
        "        display(Markdown(\"**✅ Integridad:** Los documentos son idénticos\"))\n",
        "        return True\n",
        "    else:\n",
        "        display(Markdown(\"**❌ Integridad:** Los documentos son diferentes\"))\n",
        "        return False\n",
        "\n",
        "def verificar_firma(ruta_documento, ruta_firma):\n",
        "    \"\"\"Verifica que la firma corresponda al documento usando la clave pública\"\"\"\n",
        "    public_key = cargar_clave_publica()\n",
        "\n",
        "    with open(ruta_firma, \"rb\") as f:\n",
        "        firma = f.read()\n",
        "\n",
        "    with open(ruta_documento) as f:\n",
        "        mensaje = json.dumps(json.load(f)).encode()\n",
        "\n",
        "    try:\n",
        "        public_key.verify(\n",
        "            firma,\n",
        "            mensaje,\n",
        "            padding.PSS(\n",
        "                mgf=padding.MGF1(hashes.SHA256()),\n",
        "                salt_length=padding.PSS.MAX_LENGTH\n",
        "            ),\n",
        "            hashes.SHA256()\n",
        "        )\n",
        "        display(Markdown(\"**✅ Firma válida:** Corresponde al documento\"))\n",
        "        return True\n",
        "    except Exception as e:\n",
        "        display(Markdown(f\"**❌ Firma inválida:** No corresponde al documento\\nError: `{str(e)}`\"))\n",
        "        return False\n",
        "\n",
        "# --- Menú interactivo ---\n",
        "\n",
        "def mostrar_menu():\n",
        "    \"\"\"Muestra un menú interactivo con las opciones de verificación\"\"\"\n",
        "    setup_colab_environment()  # Configura el entorno con archivos de ejemplo\n",
        "\n",
        "    while True:\n",
        "        display(Markdown(\"\"\"\n",
        "## 🛡️ Validador de Firmas Digitales\n",
        "\n",
        "**Opciones:**\n",
        "1. Verificar si un documento fue modificado\n",
        "2. Verificar si una firma es válida\n",
        "3. Verificar documento y firma (completo)\n",
        "4. Mostrar documentos de ejemplo\n",
        "5. Salir\n",
        "\"\"\"))\n",
        "\n",
        "        opcion = input(\"Seleccione una opción (1-5): \")\n",
        "\n",
        "        if opcion == \"1\":\n",
        "            display(Markdown(\"### 🔍 Verificar integridad del documento\"))\n",
        "            doc1 = input(\"Ruta del documento ORIGINAL (ej. documento_original.json): \") or \"documento_original.json\"\n",
        "            doc2 = input(\"Ruta del documento a COMPARAR (ej. documento_modificado.json): \") or \"documento_modificado.json\"\n",
        "            verificar_integridad(doc1, doc2)\n",
        "\n",
        "        elif opcion == \"2\":\n",
        "            display(Markdown(\"### 🔏 Verificar validez de firma\"))\n",
        "            doc = input(\"Ruta del documento (ej. documento_original.json): \") or \"documento_original.json\"\n",
        "            firma = input(\"Ruta de la firma (ej. firma_valida.bin): \") or \"firma_valida.bin\"\n",
        "            verificar_firma(doc, firma)\n",
        "\n",
        "        elif opcion == \"3\":\n",
        "            display(Markdown(\"### 🔐 Verificación completa\"))\n",
        "            doc_orig = input(\"Ruta del documento ORIGINAL (ej. documento_original.json): \") or \"documento_original.json\"\n",
        "            doc_verif = input(\"Ruta del documento a VERIFICAR (ej. documento_modificado.json): \") or \"documento_modificado.json\"\n",
        "            firma = input(\"Ruta de la firma (ej. firma_valida.bin): \") or \"firma_valida.bin\"\n",
        "\n",
        "            display(Markdown(\"**1. Verificando integridad...**\"))\n",
        "            integridad_ok = verificar_integridad(doc_orig, doc_verif)\n",
        "\n",
        "            display(Markdown(\"**2. Verificando firma...**\"))\n",
        "            firma_ok = verificar_firma(doc_verif, firma)\n",
        "\n",
        "            display(Markdown(\"### 📝 Resultado final\"))\n",
        "            if integridad_ok and firma_ok:\n",
        "                display(Markdown(\"**✅ Todo correcto:** Documento íntegro y firma válida\"))\n",
        "            elif not integridad_ok and firma_ok:\n",
        "                display(Markdown(\"**⚠️ Caso raro:** Documento modificado pero firma válida (¿firmó el documento modificado?)\"))\n",
        "            elif integridad_ok and not firma_ok:\n",
        "                display(Markdown(\"**❌ Firma inválida:** Documento no modificado pero firma no corresponde\"))\n",
        "            else:\n",
        "                display(Markdown(\"**❌❌ Problemas graves:** Documento modificado y firma inválida\"))\n",
        "\n",
        "        elif opcion == \"4\":\n",
        "            display(Markdown(\"### 📄 Documentos de ejemplo\"))\n",
        "            display(Markdown(\"**Documento original (válido):** `documento_original.json`\"))\n",
        "            display(Markdown(\"**Documento modificado:** `documento_modificado.json`\"))\n",
        "            display(Markdown(\"**Firma válida:** `firma_valida.bin` (para documento original)\"))\n",
        "            display(Markdown(\"**Firma inválida:** `firma_invalida.bin` (para documento modificado)\"))\n",
        "\n",
        "            # Mostrar contenido de los documentos\n",
        "            with open(\"documento_original.json\") as f:\n",
        "                display(Markdown(f\"```json\\n{f.read()}\\n```\"))\n",
        "\n",
        "        elif opcion == \"5\":\n",
        "            display(Markdown(\"**👋 Saliendo del validador...**\"))\n",
        "            break\n",
        "\n",
        "        else:\n",
        "            display(Markdown(\"**⚠️ Opción no válida. Por favor elija 1-5**\"))\n",
        "\n",
        "        input(\"\\nPresione Enter para continuar...\")\n",
        "        display(Markdown(\"---\"))\n",
        "\n",
        "# --- Ejecución en Colab ---\n",
        "display(Markdown(\"# 🔐 Validador de Firmas Digitales en Google Colab\"))\n",
        "mostrar_menu()"
      ],
      "metadata": {
        "colab": {
          "base_uri": "https://localhost:8080/",
          "height": 1000
        },
        "id": "b2sg73luHini",
        "outputId": "fe36f33f-7fdd-4bc0-f4a5-6e795055b712"
      },
      "execution_count": 2,
      "outputs": [
        {
          "output_type": "display_data",
          "data": {
            "text/plain": [
              "<IPython.core.display.Markdown object>"
            ],
            "text/markdown": "# 🔐 Validador de Firmas Digitales en Google Colab"
          },
          "metadata": {}
        },
        {
          "output_type": "display_data",
          "data": {
            "text/plain": [
              "<IPython.core.display.Markdown object>"
            ],
            "text/markdown": "**Documento creado:** 'documento_original.json'"
          },
          "metadata": {}
        },
        {
          "output_type": "display_data",
          "data": {
            "text/plain": [
              "<IPython.core.display.Markdown object>"
            ],
            "text/markdown": "**Documento creado:** 'documento_modificado.json'"
          },
          "metadata": {}
        },
        {
          "output_type": "display_data",
          "data": {
            "text/plain": [
              "<IPython.core.display.Markdown object>"
            ],
            "text/markdown": "**Firma creada:** 'firma_valida.bin' para documento 'documento_original.json'"
          },
          "metadata": {}
        },
        {
          "output_type": "display_data",
          "data": {
            "text/plain": [
              "<IPython.core.display.Markdown object>"
            ],
            "text/markdown": "**Firma creada:** 'firma_invalida.bin' para documento 'documento_modificado.json'"
          },
          "metadata": {}
        },
        {
          "output_type": "display_data",
          "data": {
            "text/plain": [
              "<IPython.core.display.Markdown object>"
            ],
            "text/markdown": "\n## 🛡️ Validador de Firmas Digitales\n\n**Opciones:**\n1. Verificar si un documento fue modificado\n2. Verificar si una firma es válida\n3. Verificar documento y firma (completo)\n4. Mostrar documentos de ejemplo\n5. Salir\n"
          },
          "metadata": {}
        },
        {
          "name": "stdout",
          "output_type": "stream",
          "text": [
            "Seleccione una opción (1-5): 1\n"
          ]
        },
        {
          "output_type": "display_data",
          "data": {
            "text/plain": [
              "<IPython.core.display.Markdown object>"
            ],
            "text/markdown": "### 🔍 Verificar integridad del documento"
          },
          "metadata": {}
        },
        {
          "name": "stdout",
          "output_type": "stream",
          "text": [
            "Ruta del documento ORIGINAL (ej. documento_original.json): documento_original.json\n",
            "Ruta del documento a COMPARAR (ej. documento_modificado.json): documento_modificado.json\n"
          ]
        },
        {
          "output_type": "display_data",
          "data": {
            "text/plain": [
              "<IPython.core.display.Markdown object>"
            ],
            "text/markdown": "**❌ Integridad:** Los documentos son diferentes"
          },
          "metadata": {}
        },
        {
          "name": "stdout",
          "output_type": "stream",
          "text": [
            "\n",
            "Presione Enter para continuar...\n"
          ]
        },
        {
          "output_type": "display_data",
          "data": {
            "text/plain": [
              "<IPython.core.display.Markdown object>"
            ],
            "text/markdown": "---"
          },
          "metadata": {}
        },
        {
          "output_type": "display_data",
          "data": {
            "text/plain": [
              "<IPython.core.display.Markdown object>"
            ],
            "text/markdown": "\n## 🛡️ Validador de Firmas Digitales\n\n**Opciones:**\n1. Verificar si un documento fue modificado\n2. Verificar si una firma es válida\n3. Verificar documento y firma (completo)\n4. Mostrar documentos de ejemplo\n5. Salir\n"
          },
          "metadata": {}
        },
        {
          "name": "stdout",
          "output_type": "stream",
          "text": [
            "Seleccione una opción (1-5): 1\n"
          ]
        },
        {
          "output_type": "display_data",
          "data": {
            "text/plain": [
              "<IPython.core.display.Markdown object>"
            ],
            "text/markdown": "### 🔍 Verificar integridad del documento"
          },
          "metadata": {}
        },
        {
          "name": "stdout",
          "output_type": "stream",
          "text": [
            "Ruta del documento ORIGINAL (ej. documento_original.json): documento_original.json\n",
            "Ruta del documento a COMPARAR (ej. documento_modificado.json): documento_original.json\n"
          ]
        },
        {
          "output_type": "display_data",
          "data": {
            "text/plain": [
              "<IPython.core.display.Markdown object>"
            ],
            "text/markdown": "**✅ Integridad:** Los documentos son idénticos"
          },
          "metadata": {}
        },
        {
          "name": "stdout",
          "output_type": "stream",
          "text": [
            "\n",
            "Presione Enter para continuar...\n"
          ]
        },
        {
          "output_type": "display_data",
          "data": {
            "text/plain": [
              "<IPython.core.display.Markdown object>"
            ],
            "text/markdown": "---"
          },
          "metadata": {}
        },
        {
          "output_type": "display_data",
          "data": {
            "text/plain": [
              "<IPython.core.display.Markdown object>"
            ],
            "text/markdown": "\n## 🛡️ Validador de Firmas Digitales\n\n**Opciones:**\n1. Verificar si un documento fue modificado\n2. Verificar si una firma es válida\n3. Verificar documento y firma (completo)\n4. Mostrar documentos de ejemplo\n5. Salir\n"
          },
          "metadata": {}
        },
        {
          "name": "stdout",
          "output_type": "stream",
          "text": [
            "Seleccione una opción (1-5): 2\n"
          ]
        },
        {
          "output_type": "display_data",
          "data": {
            "text/plain": [
              "<IPython.core.display.Markdown object>"
            ],
            "text/markdown": "### 🔏 Verificar validez de firma"
          },
          "metadata": {}
        },
        {
          "name": "stdout",
          "output_type": "stream",
          "text": [
            "Ruta del documento (ej. documento_original.json): documento_original.json\n",
            "Ruta de la firma (ej. firma_valida.bin): firma_invalida.bin\n"
          ]
        },
        {
          "output_type": "display_data",
          "data": {
            "text/plain": [
              "<IPython.core.display.Markdown object>"
            ],
            "text/markdown": "**❌ Firma inválida:** No corresponde al documento\nError: ``"
          },
          "metadata": {}
        },
        {
          "name": "stdout",
          "output_type": "stream",
          "text": [
            "\n",
            "Presione Enter para continuar...\n"
          ]
        },
        {
          "output_type": "display_data",
          "data": {
            "text/plain": [
              "<IPython.core.display.Markdown object>"
            ],
            "text/markdown": "---"
          },
          "metadata": {}
        },
        {
          "output_type": "display_data",
          "data": {
            "text/plain": [
              "<IPython.core.display.Markdown object>"
            ],
            "text/markdown": "\n## 🛡️ Validador de Firmas Digitales\n\n**Opciones:**\n1. Verificar si un documento fue modificado\n2. Verificar si una firma es válida\n3. Verificar documento y firma (completo)\n4. Mostrar documentos de ejemplo\n5. Salir\n"
          },
          "metadata": {}
        },
        {
          "name": "stdout",
          "output_type": "stream",
          "text": [
            "Seleccione una opción (1-5): 3\n"
          ]
        },
        {
          "output_type": "display_data",
          "data": {
            "text/plain": [
              "<IPython.core.display.Markdown object>"
            ],
            "text/markdown": "### 🔐 Verificación completa"
          },
          "metadata": {}
        },
        {
          "name": "stdout",
          "output_type": "stream",
          "text": [
            "Ruta del documento ORIGINAL (ej. documento_original.json): documento_original.json\n",
            "Ruta del documento a VERIFICAR (ej. documento_modificado.json): documento_original.json\n",
            "Ruta de la firma (ej. firma_valida.bin): firma_valida.bin\n"
          ]
        },
        {
          "output_type": "display_data",
          "data": {
            "text/plain": [
              "<IPython.core.display.Markdown object>"
            ],
            "text/markdown": "**1. Verificando integridad...**"
          },
          "metadata": {}
        },
        {
          "output_type": "display_data",
          "data": {
            "text/plain": [
              "<IPython.core.display.Markdown object>"
            ],
            "text/markdown": "**✅ Integridad:** Los documentos son idénticos"
          },
          "metadata": {}
        },
        {
          "output_type": "display_data",
          "data": {
            "text/plain": [
              "<IPython.core.display.Markdown object>"
            ],
            "text/markdown": "**2. Verificando firma...**"
          },
          "metadata": {}
        },
        {
          "output_type": "display_data",
          "data": {
            "text/plain": [
              "<IPython.core.display.Markdown object>"
            ],
            "text/markdown": "**✅ Firma válida:** Corresponde al documento"
          },
          "metadata": {}
        },
        {
          "output_type": "display_data",
          "data": {
            "text/plain": [
              "<IPython.core.display.Markdown object>"
            ],
            "text/markdown": "### 📝 Resultado final"
          },
          "metadata": {}
        },
        {
          "output_type": "display_data",
          "data": {
            "text/plain": [
              "<IPython.core.display.Markdown object>"
            ],
            "text/markdown": "**✅ Todo correcto:** Documento íntegro y firma válida"
          },
          "metadata": {}
        },
        {
          "name": "stdout",
          "output_type": "stream",
          "text": [
            "\n",
            "Presione Enter para continuar...\n"
          ]
        },
        {
          "output_type": "display_data",
          "data": {
            "text/plain": [
              "<IPython.core.display.Markdown object>"
            ],
            "text/markdown": "---"
          },
          "metadata": {}
        },
        {
          "output_type": "display_data",
          "data": {
            "text/plain": [
              "<IPython.core.display.Markdown object>"
            ],
            "text/markdown": "\n## 🛡️ Validador de Firmas Digitales\n\n**Opciones:**\n1. Verificar si un documento fue modificado\n2. Verificar si una firma es válida\n3. Verificar documento y firma (completo)\n4. Mostrar documentos de ejemplo\n5. Salir\n"
          },
          "metadata": {}
        },
        {
          "name": "stdout",
          "output_type": "stream",
          "text": [
            "Seleccione una opción (1-5): 4\n"
          ]
        },
        {
          "output_type": "display_data",
          "data": {
            "text/plain": [
              "<IPython.core.display.Markdown object>"
            ],
            "text/markdown": "### 📄 Documentos de ejemplo"
          },
          "metadata": {}
        },
        {
          "output_type": "display_data",
          "data": {
            "text/plain": [
              "<IPython.core.display.Markdown object>"
            ],
            "text/markdown": "**Documento original (válido):** `documento_original.json`"
          },
          "metadata": {}
        },
        {
          "output_type": "display_data",
          "data": {
            "text/plain": [
              "<IPython.core.display.Markdown object>"
            ],
            "text/markdown": "**Documento modificado:** `documento_modificado.json`"
          },
          "metadata": {}
        },
        {
          "output_type": "display_data",
          "data": {
            "text/plain": [
              "<IPython.core.display.Markdown object>"
            ],
            "text/markdown": "**Firma válida:** `firma_valida.bin` (para documento original)"
          },
          "metadata": {}
        },
        {
          "output_type": "display_data",
          "data": {
            "text/plain": [
              "<IPython.core.display.Markdown object>"
            ],
            "text/markdown": "**Firma inválida:** `firma_invalida.bin` (para documento modificado)"
          },
          "metadata": {}
        },
        {
          "output_type": "display_data",
          "data": {
            "text/plain": [
              "<IPython.core.display.Markdown object>"
            ],
            "text/markdown": "```json\n{\n    \"autor\": \"Juan P\\u00e9rez\",\n    \"titulo\": \"Contrato importante\",\n    \"contenido\": \"Este es el contenido original del contrato firmado.\",\n    \"fecha_creacion\": \"2025-06-12T21:53:21.113125\"\n}\n```"
          },
          "metadata": {}
        },
        {
          "name": "stdout",
          "output_type": "stream",
          "text": [
            "\n",
            "Presione Enter para continuar...\n"
          ]
        },
        {
          "output_type": "display_data",
          "data": {
            "text/plain": [
              "<IPython.core.display.Markdown object>"
            ],
            "text/markdown": "---"
          },
          "metadata": {}
        },
        {
          "output_type": "display_data",
          "data": {
            "text/plain": [
              "<IPython.core.display.Markdown object>"
            ],
            "text/markdown": "\n## 🛡️ Validador de Firmas Digitales\n\n**Opciones:**\n1. Verificar si un documento fue modificado\n2. Verificar si una firma es válida\n3. Verificar documento y firma (completo)\n4. Mostrar documentos de ejemplo\n5. Salir\n"
          },
          "metadata": {}
        },
        {
          "name": "stdout",
          "output_type": "stream",
          "text": [
            "Seleccione una opción (1-5): 5\n"
          ]
        },
        {
          "output_type": "display_data",
          "data": {
            "text/plain": [
              "<IPython.core.display.Markdown object>"
            ],
            "text/markdown": "**👋 Saliendo del validador...**"
          },
          "metadata": {}
        }
      ]
    },
    {
      "cell_type": "markdown",
      "source": [
        "EJEMPLO DE CODIGO REAL PARA  FIRMAS DIGITALES dDE DOCUMENTOS EN TU EQUIPO."
      ],
      "metadata": {
        "id": "mkj_QzASHZH8"
      }
    },
    {
      "cell_type": "code",
      "source": [
        "import os\n",
        "import hashlib\n",
        "from cryptography.hazmat.primitives import hashes\n",
        "from cryptography.hazmat.primitives.asymmetric import rsa, padding\n",
        "from cryptography.hazmat.primitives import serialization\n",
        "from cryptography.fernet import Fernet\n",
        "import base64\n",
        "import json\n",
        "from datetime import datetime\n",
        "\n",
        "# Función para generar claves asimétricas\n",
        "def generar_claves_asimetricas():\n",
        "    \"\"\"Genera y guarda un par de claves asimétricas en archivos.\"\"\"\n",
        "    clave_privada = rsa.generate_private_key(\n",
        "        public_exponent=65537,\n",
        "        key_size=2048\n",
        "    )\n",
        "    clave_publica = clave_privada.public_key()\n",
        "\n",
        "    # Guardar clave privada\n",
        "    with open(\"clave_privada.pem\", \"wb\") as clave_privada_archivo:\n",
        "        clave_privada_archivo.write(\n",
        "            clave_privada.private_bytes(\n",
        "                encoding=serialization.Encoding.PEM,\n",
        "                format=serialization.PrivateFormat.TraditionalOpenSSL,\n",
        "                encryption_algorithm=serialization.NoEncryption()\n",
        "            )\n",
        "        )\n",
        "\n",
        "    # Guardar clave pública\n",
        "    with open(\"clave_publica.pem\", \"wb\") as clave_publica_archivo:\n",
        "        clave_publica_archivo.write(\n",
        "            clave_publica.public_bytes(\n",
        "                encoding=serialization.Encoding.PEM,\n",
        "                format=serialization.PublicFormat.SubjectPublicKeyInfo\n",
        "            )\n",
        "        )\n",
        "\n",
        "    print(\"Claves asimétricas generadas y guardadas en 'clave_privada.pem' y 'clave_publica.pem'.\")\n",
        "\n",
        "# Cargar clave privada\n",
        "def cargar_clave_privada():\n",
        "    \"\"\"Carga la clave privada desde un archivo.\"\"\"\n",
        "    with open(\"clave_privada.pem\", \"rb\") as clave_privada_archivo:\n",
        "        return serialization.load_pem_private_key(\n",
        "            clave_privada_archivo.read(),\n",
        "            password=None\n",
        "        )\n",
        "\n",
        "# Cargar clave pública\n",
        "def cargar_clave_publica():\n",
        "    \"\"\"Carga la clave pública desde un archivo.\"\"\"\n",
        "    with open(\"clave_publica.pem\", \"rb\") as clave_publica_archivo:\n",
        "        return serialization.load_pem_public_key(\n",
        "            clave_publica_archivo.read()\n",
        "        )\n",
        "\n",
        "# Función para crear documento\n",
        "def crear_documento(autor, titulo, contenido, nombre_archivo=\"documento.json\"):\n",
        "    \"\"\"\n",
        "    Crea un documento en formato JSON para ser firmado.\n",
        "    \"\"\"\n",
        "    documento = {\n",
        "        \"autor\": autor,\n",
        "        \"titulo\": titulo,\n",
        "        \"contenido\": contenido,\n",
        "        \"fecha_creacion\": datetime.now().isoformat()\n",
        "    }\n",
        "\n",
        "    with open(nombre_archivo, \"w\") as f:\n",
        "        json.dump(documento, f, indent=4)\n",
        "\n",
        "    print(f\"Documento creado y guardado en: {nombre_archivo}\")\n",
        "    return documento\n",
        "\n",
        "# Función para firmar documento\n",
        "def firmar_documento(ruta_documento, ruta_firma=\"firma_digital.bin\"):\n",
        "    \"\"\"\n",
        "    Firma digitalmente un documento utilizando una clave privada RSA.\n",
        "    \"\"\"\n",
        "    # Cargamos la clave privada\n",
        "    private_key = cargar_clave_privada()\n",
        "\n",
        "    # Convertimos el documento a una cadena JSON y la codificamos en bytes\n",
        "    documento = open(ruta_documento)\n",
        "    mensaje = json.load(documento)\n",
        "    mensaje = json.dumps(mensaje).encode()\n",
        "    documento.close()\n",
        "\n",
        "    # Firmamos el mensaje\n",
        "    firma = private_key.sign(\n",
        "        mensaje,\n",
        "        padding.PSS(\n",
        "            mgf=padding.MGF1(hashes.SHA256()),\n",
        "            salt_length=padding.PSS.MAX_LENGTH\n",
        "        ),\n",
        "        hashes.SHA256()\n",
        "    )\n",
        "\n",
        "    # Guardamos la firma en un archivo\n",
        "    with open(ruta_firma, \"wb\") as f:\n",
        "        f.write(firma)\n",
        "\n",
        "    print(f\"Documento firmado. Firma guardada en: {ruta_firma}\")\n",
        "    return firma\n",
        "\n",
        "# Función para verificar firma\n",
        "def verificar_firma(ruta_documento, ruta_firma):\n",
        "    \"\"\"\n",
        "    Verifica la firma digital de un documento utilizando una clave pública RSA.\n",
        "    \"\"\"\n",
        "    # Cargamos la clave pública\n",
        "    public_key = cargar_clave_publica()\n",
        "\n",
        "    # Cargamos la firma\n",
        "    with open(ruta_firma, \"rb\") as f:\n",
        "        firma = f.read()\n",
        "\n",
        "    # Convertimos el documento a una cadena JSON y la codificamos en bytes\n",
        "    documento = open(ruta_documento)\n",
        "    mensaje = json.load(documento)\n",
        "    mensaje = json.dumps(mensaje).encode()\n",
        "    documento.close()\n",
        "\n",
        "    try:\n",
        "        # Verificamos la firma\n",
        "        public_key.verify(\n",
        "            firma,\n",
        "            mensaje,\n",
        "            padding.PSS(\n",
        "                mgf=padding.MGF1(hashes.SHA256()),\n",
        "                salt_length=padding.PSS.MAX_LENGTH\n",
        "            ),\n",
        "            hashes.SHA256()\n",
        "        )\n",
        "        print(\"¡La firma es válida! El documento es auténtico y no ha sido modificado.\")\n",
        "        return True\n",
        "    except Exception as e:\n",
        "        print(\"¡La firma NO es válida! El documento puede haber sido alterado o la firma no corresponde.\")\n",
        "        print(f\"Error: {e}\")\n",
        "        return False\n",
        "\n",
        "# Función para verificar integridad del documento\n",
        "def verificar_integridad_documento(ruta_documento_original, ruta_documento_verificar):\n",
        "    \"\"\"\n",
        "    Verifica si el contenido de dos documentos es idéntico comparando sus hashes.\n",
        "    \"\"\"\n",
        "    try:\n",
        "        with open(ruta_documento_original, \"rb\") as f:\n",
        "            hash_original = hashlib.sha256(f.read()).hexdigest()\n",
        "\n",
        "        with open(ruta_documento_verificar, \"rb\") as f:\n",
        "            hash_verificar = hashlib.sha256(f.read()).hexdigest()\n",
        "\n",
        "        if hash_original == hash_verificar:\n",
        "            print(\"Documento OK: El documento no ha sido modificado.\")\n",
        "            return True\n",
        "        else:\n",
        "            print(\"Documento MODIFICADO: El contenido ha cambiado.\")\n",
        "            return False\n",
        "    except Exception as e:\n",
        "        print(f\"Error al verificar documentos: {e}\")\n",
        "        return False\n",
        "\n",
        "# Función para mostrar el menú principal\n",
        "def mostrar_menu():\n",
        "    \"\"\"\n",
        "    Muestra el menú de opciones y maneja la interacción con el usuario.\n",
        "    \"\"\"\n",
        "    while True:\n",
        "        print(\"\\n--- Menú de Validación de Firmas Digitales ---\")\n",
        "        print(\"1. Verificar integridad del documento\")\n",
        "        print(\"2. Verificar firma digital\")\n",
        "        print(\"3. Verificar documento y firma\")\n",
        "        print(\"4. Salir\")\n",
        "\n",
        "        opcion = input(\"Seleccione una opción: \")\n",
        "\n",
        "        if opcion == \"1\":\n",
        "            # Verificar solo integridad del documento\n",
        "            doc_original = input(\"Ruta del documento original: \")\n",
        "            doc_verificar = input(\"Ruta del documento a verificar: \")\n",
        "            verificar_integridad_documento(doc_original, doc_verificar)\n",
        "\n",
        "        elif opcion == \"2\":\n",
        "            # Verificar solo la firma\n",
        "            doc = input(\"Ruta del documento: \")\n",
        "            firma = input(\"Ruta de la firma: \")\n",
        "            verificar_firma(doc, firma)\n",
        "\n",
        "        elif opcion == \"3\":\n",
        "            # Verificar ambos: documento y firma\n",
        "            doc_original = input(\"Ruta del documento original: \")\n",
        "            doc_verificar = input(\"Ruta del documento a verificar: \")\n",
        "            firma = input(\"Ruta de la firma: \")\n",
        "\n",
        "            # Primero verificamos el documento\n",
        "            doc_ok = verificar_integridad_documento(doc_original, doc_verificar)\n",
        "\n",
        "            # Luego verificamos la firma\n",
        "            firma_ok = verificar_firma(doc_verificar, firma)\n",
        "\n",
        "            # Mostramos resumen final\n",
        "            print(\"\\n--- Resumen de Verificación ---\")\n",
        "            if doc_ok and firma_ok:\n",
        "                print(\"ESTADO: Todo correcto - Documento OK y Firma OK\")\n",
        "            elif not doc_ok and firma_ok:\n",
        "                print(\"ESTADO: Documento modificado pero firma válida (raro caso)\")\n",
        "            elif doc_ok and not firma_ok:\n",
        "                print(\"ESTADO: Documento no modificado pero firma no válida\")\n",
        "            else:\n",
        "                print(\"ESTADO: Documento modificado y firma no válida\")\n",
        "\n",
        "        elif opcion == \"4\":\n",
        "            print(\"Saliendo del programa...\")\n",
        "            break\n",
        "\n",
        "        else:\n",
        "            print(\"Opción no válida. Por favor seleccione 1-4.\")\n",
        "\n",
        "# Función principal\n",
        "def main():\n",
        "    \"\"\"\n",
        "    Función principal que inicia la aplicación.\n",
        "    \"\"\"\n",
        "    # Verificamos si existen las claves, si no, las generamos\n",
        "    if not os.path.exists(\"clave_privada.pem\") or not os.path.exists(\"clave_publica.pem\"):\n",
        "        print(\"Generando claves asimétricas...\")\n",
        "        generar_claves_asimetricas()\n",
        "\n",
        "    # Mostramos el menú\n",
        "    mostrar_menu()\n",
        "\n",
        "if __name__ == \"__main__\":\n",
        "    main()"
      ],
      "metadata": {
        "colab": {
          "base_uri": "https://localhost:8080/"
        },
        "id": "5WXqEFMy_61M",
        "outputId": "99ff40d1-5788-45ea-c7ac-0daa184274d0"
      },
      "execution_count": 1,
      "outputs": [
        {
          "output_type": "stream",
          "name": "stdout",
          "text": [
            "Generando claves asimétricas...\n",
            "Claves asimétricas generadas y guardadas en 'clave_privada.pem' y 'clave_publica.pem'.\n",
            "\n",
            "--- Menú de Validación de Firmas Digitales ---\n",
            "1. Verificar integridad del documento\n",
            "2. Verificar firma digital\n",
            "3. Verificar documento y firma\n",
            "4. Salir\n",
            "Seleccione una opción: 1\n",
            "Ruta del documento original: doc_original\n",
            "Ruta del documento a verificar: doc_verificar\n",
            "Error al verificar documentos: [Errno 2] No such file or directory: 'doc_original'\n",
            "\n",
            "--- Menú de Validación de Firmas Digitales ---\n",
            "1. Verificar integridad del documento\n",
            "2. Verificar firma digital\n",
            "3. Verificar documento y firma\n",
            "4. Salir\n",
            "Seleccione una opción: 4\n",
            "Saliendo del programa...\n"
          ]
        }
      ]
    }
  ]
}